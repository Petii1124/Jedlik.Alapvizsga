{
 "cells": [
  {
   "attachments": {
    "github_avatar.png": {
     "image/png": "[encoded data removed]"
    },
    "github_avatar_2.png": {
     "image/png": "[encoded data removed]"
    },
    "github_avatar_3.png": {
     "image/png": "[encoded data removed]"
    }
   },
   "cell_type": "markdown",
   "metadata": {},
   "source": [
    "# GitHub profilkép készítése\n",
    "\n",
    "Mik a GitHub profilképek jellemzői? Milyen eszközökre lesz szükségünk?\n",
    "\n",
    "![github_avatar.png](attachment:github_avatar.png)\n",
    "![github_avatar_2.png](attachment:github_avatar_2.png)\n",
    "![github_avatar_3.png](attachment:github_avatar_3.png)"
   ]
  },
  {
   "cell_type": "markdown",
   "metadata": {},
   "source": [
    "## Könyvtárak telepítése \n",
    "\n",
    "Csak a PIL (Python Imaging Library) telepítése szükséges."
   ]
  },
  {
   "cell_type": "code",
   "execution_count": null,
   "metadata": {},
   "outputs": [],
   "source": [
    "#%pip install PIL"
   ]
  },
  {
   "cell_type": "markdown",
   "metadata": {},
   "source": [
    "## Könyvtárak importálása"
   ]
  },
  {
   "cell_type": "code",
   "execution_count": 1,
   "metadata": {},
   "outputs": [],
   "source": [
    "from PIL import Image, ImageDraw\n",
    "import random"
   ]
  },
  {
   "cell_type": "markdown",
   "metadata": {},
   "source": [
    "## 1. Vászon megtervezése\n",
    "\n",
    "A GitHub profilképek 5*5 négyzetre vannak osztva. Sorok, oszlopok szélessége 50 pixel legyen."
   ]
  },
  {
   "cell_type": "code",
   "execution_count": 2,
   "metadata": {},
   "outputs": [],
   "source": [
    "num_rows = 5\n",
    "num_columns = 5\n",
    "cell_size = 50"
   ]
  },
  {
   "cell_type": "markdown",
   "metadata": {},
   "source": [
    "Ez alapján meghatározzuk a készülő kép méretét..."
   ]
  },
  {
   "cell_type": "code",
   "execution_count": 4,
   "metadata": {},
   "outputs": [
    {
     "name": "stdout",
     "output_type": "stream",
     "text": [
      "250 250\n"
     ]
    }
   ],
   "source": [
    "image_width = num_columns*cell_size\n",
    "image_height = num_rows*cell_size\n",
    "\n",
    "print(image_width, image_height)"
   ]
  },
  {
   "cell_type": "markdown",
   "metadata": {},
   "source": [
    "..és létrehozzuk képet fehér háttérrel."
   ]
  },
  {
   "cell_type": "code",
   "execution_count": 5,
   "metadata": {},
   "outputs": [],
   "source": [
    "image = Image.new(\"RGB\", (image_width, image_height), \"white\")"
   ]
  },
  {
   "cell_type": "markdown",
   "metadata": {},
   "source": [
    "<code>ImageDraw.Draw</code> parancs alakzatok rajzolásánál lesz szükséges."
   ]
  },
  {
   "cell_type": "code",
   "execution_count": 6,
   "metadata": {},
   "outputs": [],
   "source": [
    "draw = ImageDraw.Draw(image)"
   ]
  },
  {
   "cell_type": "markdown",
   "metadata": {},
   "source": [
    "A <code>display()</code> parancs megjeleníti Jupyter jegyzeten belül, míg <code>save()</code> parancs elmenti fájlként."
   ]
  },
  {
   "cell_type": "code",
   "execution_count": 7,
   "metadata": {},
   "outputs": [
    {
     "data": {
      "image/jpeg": "[encoded data removed]",
      "image/png": "[encoded data removed]",
      "text/plain": [
       "<PIL.Image.Image image mode=RGB size=250x250>"
      ]
     },
     "metadata": {},
     "output_type": "display_data"
    }
   ],
   "source": [
    "display(image)"
   ]
  },
  {
   "cell_type": "markdown",
   "metadata": {},
   "source": [
    "## 2. Tartalom hozzáadása"
   ]
  },
  {
   "cell_type": "markdown",
   "metadata": {},
   "source": [
    "A kép alapját meghatározó parancsokat gyűjtsük össze és készítsük el függvényként a könnyebb kezelhetőség érdekében."
   ]
  },
  {
   "cell_type": "code",
   "execution_count": 150,
   "metadata": {},
   "outputs": [],
   "source": [
    "def createImage(color):\n",
    "    for i in range(0,3):\n",
    "        for j in range(0,5):\n",
    "            if random.random()> 0.5:\n",
    "                x0 = i*cell_size\n",
    "                y0 = j*cell_size\n",
    "                x1 = i*cell_size+cell_size\n",
    "                y1 = j*cell_size+cell_size\n",
    "                draw.rectangle(xy=[x0,y0,x1,y1], fill= color)\n",
    "                if i == 0:\n",
    "                    x0 = (i+4)*cell_size\n",
    "                    y0 = j*cell_size\n",
    "                    x1 = (i+4)*cell_size+cell_size\n",
    "                    y1 = j*cell_size+cell_size\n",
    "                    draw.rectangle(xy=[x0,y0,x1,y1], fill= color)\n",
    "                if i == 1:\n",
    "                    x0 = (i+2)*cell_size\n",
    "                    y0 = j*cell_size\n",
    "                    x1 = (i+2)*cell_size+cell_size\n",
    "                    y1 = j*cell_size+cell_size\n",
    "                    draw.rectangle(xy=[x0,y0,x1,y1], fill= color)\n",
    "\n"
   ]
  },
  {
   "cell_type": "code",
   "execution_count": 151,
   "metadata": {},
   "outputs": [],
   "source": [
    "def randomColor():\n",
    "    r = random.randint(0,255)\n",
    "    g = random.randint(0,255)\n",
    "    b = random.randint(0,255)\n",
    "    \n",
    "    color =(int(r),int(g),int(b))\n",
    "\n",
    "    return color"
   ]
  },
  {
   "cell_type": "code",
   "execution_count": 318,
   "metadata": {},
   "outputs": [
    {
     "data": {
      "image/jpeg": "[encoded data removed]",
      "image/png": "[encoded data removed]",
      "text/plain": [
       "<PIL.Image.Image image mode=RGB size=250x250>"
      ]
     },
     "metadata": {},
     "output_type": "display_data"
    }
   ],
   "source": [
    "image = Image.new(\"RGB\", (image_width, image_height), \"white\")\n",
    "draw = ImageDraw.Draw(image)\n",
    "\n",
    "createImage(randomColor())\n",
    "\n",
    "display(image)"
   ]
  },
  {
   "cell_type": "markdown",
   "metadata": {},
   "source": [
    "A háttérszínen kívül egyetlen színre lesz szükségünk. Ennek véletlenszerű megadásához RGB színteret használjuk és mindhárom értéket 0,255 között generáljuk."
   ]
  },
  {
   "cell_type": "code",
   "execution_count": null,
   "metadata": {},
   "outputs": [],
   "source": [
    "def genColor():\n",
    "    \n",
    "    return()\n"
   ]
  },
  {
   "cell_type": "markdown",
   "metadata": {},
   "source": [
    "A képek vertikálisan tükrözöttek. Ez azt jelenti, hogy az 5 oszlopból elég az első 3 celláinak színét eldönteni, majd az információt a megfelelő helyre másolni. A cella színezését a <code>random</code> könyvtár <code>random()</code> függvényére bízzuk, ami 0 és 1 között generál értéket. Jelen esetben akkor színezzük ki a cellát, ha a véletlen értéke <code>>= 0.6</code>."
   ]
  },
  {
   "cell_type": "code",
   "execution_count": null,
   "metadata": {},
   "outputs": [],
   "source": [
    "for i in range (0,3):\n",
    "    for j in range (0,5):\n",
    "        if random.random() >= 0.6:   \n",
    "            draw.rectangle([i*50,j*50,i*50+50,j*50+50],fill=color)\n",
    "            if i == 0:\n",
    "                draw.rectangle([(i+4)*50,j*50,(i+4)*50+50,j*50+50],fill=color)\n",
    "            if i == 1:\n",
    "                draw.rectangle([(i+2)*50,j*50,(i+2)*50+50,j*50+50],fill=color)"
   ]
  },
  {
   "cell_type": "code",
   "execution_count": null,
   "metadata": {},
   "outputs": [],
   "source": [
    "display(image)"
   ]
  },
  {
   "cell_type": "markdown",
   "metadata": {},
   "source": [
    "## 3. Utolsó simítások\n",
    "\n",
    "Az eredeti képen van \"keret\" a kép körül. Erre egy megoldás, ha a készülő kép méretét megnöveljük és egy kicsit számolunk a négyzetek lerakásakor.\n",
    "Képnél problémát okozhat, hogy végig ugyanaz <code>image</code> változó tárolja a képet. Ezt megoldhatjuk egy új változó bevezetével, vagy az eddigi felülírásával. Tartalom felülírása megoldható egy kép meretű, háttér színét öröklő téglalap rajzolásával."
   ]
  },
  {
   "cell_type": "code",
   "execution_count": null,
   "metadata": {},
   "outputs": [],
   "source": [
    "image.save(\"github_avatar.png\")\n",
    "display(image)"
   ]
  },
  {
   "cell_type": "markdown",
   "metadata": {},
   "source": [
    "## 4. Befejezés\n",
    "\n",
    "Az egész kód egyben:"
   ]
  },
  {
   "cell_type": "markdown",
   "metadata": {},
   "source": [
    "## 5. Feladatok\n",
    "\n",
    "- Hány különböző képet tud létrehozni a program?\n",
    "- Bővítsd a programot úgy, hogy a háttérszín véletlenszerűen legyen fekete, vagy fehér\n",
    "- Mit kéne fejleszteni a programot, hogy tetszőleges méretű képet hozzon létre?\n"
   ]
  },
  {
   "cell_type": "markdown",
   "metadata": {},
   "source": []
  }
 ],
 "metadata": {
  "kernelspec": {
   "display_name": "Python 3",
   "language": "python",
   "name": "python3"
  },
  "language_info": {
   "codemirror_mode": {
    "name": "ipython",
    "version": 3
   },
   "file_extension": ".py",
   "mimetype": "text/x-python",
   "name": "python",
   "nbconvert_exporter": "python",
   "pygments_lexer": "ipython3",
   "version": "3.11.9"
  }
 },
 "nbformat": 4,
 "nbformat_minor": 2
}
